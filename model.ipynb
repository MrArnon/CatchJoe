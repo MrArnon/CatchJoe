{
 "cells": [
  {
   "cell_type": "code",
   "execution_count": null,
   "id": "dbe2b631-2094-4f5d-914a-ef04f2520932",
   "metadata": {},
   "outputs": [],
   "source": [
    "import pandas as pd\n",
    "import numpy as np\n",
    "import json\n",
    "import pickle\n",
    "from pathlib import Path\n",
    "from sklearn.model_selection import StratifiedKFold\n",
    "from sklearn.model_selection import cross_validate\n",
    "from sklearn.tree import DecisionTreeClassifier\n",
    "import preprocessing as prep"
   ]
  },
  {
   "cell_type": "code",
   "execution_count": null,
   "id": "aa5b0c1c-cf5c-4b91-b2e2-ba26041ae4d8",
   "metadata": {},
   "outputs": [],
   "source": [
    "path_config = Path(\"config.json\")\n",
    "with(open(path_config, 'r')) as file:\n",
    "    config = json.load(file)\n",
    "    \n",
    "catch_id = config['features']['catch_id']"
   ]
  },
  {
   "cell_type": "code",
   "execution_count": null,
   "id": "79847fdb-d392-4859-9298-235a593e5de3",
   "metadata": {},
   "outputs": [],
   "source": [
    "prep.main()\n",
    "path = config['output']['train']\n",
    "target_col = config['features']['target_col']"
   ]
  },
  {
   "cell_type": "code",
   "execution_count": null,
   "id": "903ef870-592d-4050-8a89-76fcc132d742",
   "metadata": {},
   "outputs": [],
   "source": [
    "df = pd.read_csv(Path(config['data_path']) / Path(path), index_col=0)"
   ]
  },
  {
   "cell_type": "code",
   "execution_count": null,
   "id": "f23c06e6-b92f-4cea-8264-f3fb5104c389",
   "metadata": {},
   "outputs": [],
   "source": [
    "X = df.drop(target_col, axis=1)\n",
    "Y = df[[target_col]]"
   ]
  },
  {
   "cell_type": "code",
   "execution_count": null,
   "id": "a4a2d9ac-8a8c-4fbd-b01d-a26e3069b81f",
   "metadata": {},
   "outputs": [],
   "source": [
    "cv = StratifiedKFold(n_splits=config['features']['folds'], random_state=1, shuffle=True)\n",
    "\n",
    "model = DecisionTreeClassifier()\n",
    "\n",
    "scores = cross_validate(model, X, Y, scoring=['roc_auc','f1','accuracy', 'recall', 'precision'],\n",
    "                         cv=cv, n_jobs=-1, return_train_score=True)"
   ]
  },
  {
   "cell_type": "code",
   "execution_count": null,
   "id": "a63a52e9-acb8-490f-80fa-0d30d242e309",
   "metadata": {},
   "outputs": [],
   "source": [
    "for key in scores.keys():\n",
    "    scores[key] = scores[key].tolist()\n",
    "\n",
    "Path(config['metrics_path']).mkdir(parents=True, exist_ok=True)\n",
    "with open(Path(config['metrics_path'])/Path('metrics.json'), 'w') as fp:\n",
    "    json.dump(scores, fp, sort_keys=True, indent=4,separators=(',', ':'), )"
   ]
  },
  {
   "cell_type": "code",
   "execution_count": null,
   "id": "f2e7829c-54f4-49a0-abac-9778f9f18261",
   "metadata": {},
   "outputs": [],
   "source": [
    "models = []\n",
    "for train, test in cv.split(X, Y):\n",
    "    x_train, y_train = X.iloc[train], Y.iloc[train]\n",
    "    model = DecisionTreeClassifier()\n",
    "    models.append(model.fit(x_train, y_train))"
   ]
  },
  {
   "cell_type": "code",
   "execution_count": null,
   "id": "482823e0-c5d0-42cb-b7d0-62a2b5e14939",
   "metadata": {},
   "outputs": [],
   "source": [
    "path = config['output']['test']\n",
    "df_test = pd.read_csv(Path(config['data_path']) / Path(path),index_col=0)\n",
    "\n",
    "df = prep.read_df(config['data_path'], config['input']['test'])"
   ]
  },
  {
   "cell_type": "code",
   "execution_count": null,
   "id": "f6c38027-ccbc-462b-af87-ee6365ddb872",
   "metadata": {},
   "outputs": [],
   "source": [
    "Path(config['model_path']).mkdir(parents=True, exist_ok=True)\n",
    "preds = []\n",
    "importances = []\n",
    "i = 0\n",
    "for model in models:\n",
    "    pred = model.predict(df_test)\n",
    "    with open(Path(config['model_path'])/Path(f'decision_tree_fold_{i}.pkl'), 'wb') as f:\n",
    "        pickle.dump(model, f)\n",
    "        i += 1\n",
    "    preds.append(pred)\n",
    "    importances.append(np.ndarray.round(model.feature_importances_, 4))\n",
    "\n",
    "df_importances = pd.DataFrame(importances, columns=df_test.columns)\n",
    "final_pred = np.mean(preds, axis=0).astype(int)\n",
    "df_test['predictions'] = final_pred\n",
    "df_final = pd.DataFrame(df_test['predictions'].groupby(df_test.index).mean().astype(int))\n",
    "\n",
    "df = df.join(df_final)\n",
    "\n",
    "df.to_csv(Path(config['data_path']) / Path(config['output']['prediction']))\n",
    "df.to_json(Path(config['data_path']) / Path(config['output']['prediction'].replace('csv','json')))\n",
    "df_importances.to_json(Path(config['metrics_path']) / Path('feature_importances.json'))"
   ]
  }
 ],
 "metadata": {
  "kernelspec": {
   "display_name": "Python 3",
   "language": "python",
   "name": "python3"
  },
  "language_info": {
   "codemirror_mode": {
    "name": "ipython",
    "version": 3
   },
   "file_extension": ".py",
   "mimetype": "text/x-python",
   "name": "python",
   "nbconvert_exporter": "python",
   "pygments_lexer": "ipython3",
   "version": "3.7.3"
  }
 },
 "nbformat": 4,
 "nbformat_minor": 5
}
